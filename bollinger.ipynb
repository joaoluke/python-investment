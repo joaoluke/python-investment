{
 "cells": [
  {
   "cell_type": "code",
   "execution_count": 1,
   "metadata": {},
   "outputs": [],
   "source": [
    "import MetaTrader5 as mt5\n",
    "import pandas as pd\n",
    "import plotly.express as px\n",
    "import plotly.graph_objects as go\n",
    "from datetime import datetime, timedelta\n",
    "from config import login, server, password"
   ]
  },
  {
   "cell_type": "code",
   "execution_count": 2,
   "metadata": {},
   "outputs": [
    {
     "data": {
      "text/plain": [
       "True"
      ]
     },
     "execution_count": 2,
     "metadata": {},
     "output_type": "execute_result"
    }
   ],
   "source": [
    "mt5.initialize(login=login, server=server, password=password)"
   ]
  },
  {
   "cell_type": "code",
   "execution_count": 3,
   "metadata": {},
   "outputs": [
    {
     "ename": "AttributeError",
     "evalue": "module 'MetaTrader5' has no attribute 'copy_rates_from_range'",
     "output_type": "error",
     "traceback": [
      "\u001b[1;31m---------------------------------------------------------------------------\u001b[0m",
      "\u001b[1;31mAttributeError\u001b[0m                            Traceback (most recent call last)",
      "\u001b[1;32mc:\\Users\\sciensa\\Documents\\GitHub\\python-investment\\bollinger.ipynb Cell 3\u001b[0m line \u001b[0;36m1\n\u001b[1;32m----> <a href='vscode-notebook-cell:/c%3A/Users/sciensa/Documents/GitHub/python-investment/bollinger.ipynb#W2sZmlsZQ%3D%3D?line=0'>1</a>\u001b[0m bars \u001b[39m=\u001b[39m mt5\u001b[39m.\u001b[39;49mcopy_rates_from_range(\u001b[39m\"\u001b[39m\u001b[39mEURUSD\u001b[39m\u001b[39m\"\u001b[39m, mt5\u001b[39m.\u001b[39mTIMEFRAME_D1, datetime(\u001b[39m2023\u001b[39m, \u001b[39m1\u001b[39m, \u001b[39m1\u001b[39m), datetime\u001b[39m.\u001b[39mnow())\n\u001b[0;32m      <a href='vscode-notebook-cell:/c%3A/Users/sciensa/Documents/GitHub/python-investment/bollinger.ipynb#W2sZmlsZQ%3D%3D?line=1'>2</a>\u001b[0m bars\n",
      "\u001b[1;31mAttributeError\u001b[0m: module 'MetaTrader5' has no attribute 'copy_rates_from_range'"
     ]
    }
   ],
   "source": [
    "bars = mt5.copy_rates_range(\"EURUSD\", mt5.TIMEFRAME_D1, datetime(2023, 1, 1), datetime.now())\n",
    "bars"
   ]
  }
 ],
 "metadata": {
  "kernelspec": {
   "display_name": "Python 3",
   "language": "python",
   "name": "python3"
  },
  "language_info": {
   "codemirror_mode": {
    "name": "ipython",
    "version": 3
   },
   "file_extension": ".py",
   "mimetype": "text/x-python",
   "name": "python",
   "nbconvert_exporter": "python",
   "pygments_lexer": "ipython3",
   "version": "3.11.5"
  }
 },
 "nbformat": 4,
 "nbformat_minor": 2
}
